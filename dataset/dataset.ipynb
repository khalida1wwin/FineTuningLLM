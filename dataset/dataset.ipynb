{
  "cells": [
    {
      "cell_type": "code",
      "execution_count": 1,
      "metadata": {
        "id": "eGNP_kav59bo"
      },
      "outputs": [],
      "source": [
        "import requests\n",
        "from bs4 import BeautifulSoup\n",
        "import pandas as pd\n",
        "import json\n",
        "from collections import OrderedDict\n",
        "\n",
        "page = requests.get('https://www.goodreads.com/quotes/tag/funny')\n",
        "if page.status_code == 200:\n",
        "    pageParsed = BeautifulSoup(page.content, 'html5lib')\n",
        "    \n",
        "# Define a function that retrieves information about each HTML quote code in a dictionary form.\n",
        "def extract_data_quote(quote_html):\n",
        "        quote = quote_html.find('div',{'class':'quoteText'}).get_text().strip().split('\\n')[0]\n",
        "        author = quote_html.find('span',{'class':'authorOrTitle'}).get_text().strip()\n",
        "        if quote_html.find('div',{'class':'greyText smallText left'}) is not None:\n",
        "            tags_list = [tag.get_text() for tag in quote_html.find('div',{'class':'greyText smallText left'}).find_all('a')]\n",
        "            tags = list(OrderedDict.fromkeys(tags_list))\n",
        "            if 'attributed-no-source' in tags:\n",
        "                tags.remove('attributed-no-source')\n",
        "        else:\n",
        "            tags = None\n",
        "        data = {'quote':quote, 'author':author, 'tags':tags}\n",
        "        return data\n",
        "\n",
        "# Define a function that retrieves all the quotes on a single page. \n",
        "def get_quotes_data(page_url):\n",
        "    page = requests.get(page_url)\n",
        "    if page.status_code == 200:\n",
        "        pageParsed = BeautifulSoup(page.content, 'html5lib')\n",
        "        quotes_html_page = pageParsed.find_all('div',{'class':'quoteDetails'})\n",
        "        return [extract_data_quote(quote_html) for quote_html in quotes_html_page]\n"
      ]
    },
    {
      "cell_type": "code",
      "execution_count": 2,
      "metadata": {},
      "outputs": [
        {
          "name": "stdout",
          "output_type": "stream",
          "text": [
            "2\n",
            "3\n",
            "4\n",
            "5\n",
            "6\n",
            "7\n",
            "8\n",
            "9\n",
            "10\n",
            "11\n",
            "12\n"
          ]
        }
      ],
      "source": [
        "# Retrieve data from the first page.\n",
        "data = get_quotes_data('https://www.goodreads.com/quotes/tag/funny')\n",
        "\n",
        "# Retrieve data from all pages.\n",
        "for i in range(2,9550):\n",
        "    print(i)\n",
        "    url = f'https://www.goodreads.com/quotes/tag/funny?page={i}'\n",
        "    data_current_page = get_quotes_data(url)\n",
        "    if data_current_page is None:\n",
        "        continue"
      ]
    },
    {
      "cell_type": "code",
      "execution_count": 4,
      "metadata": {
        "id": "w6PhyuNS6StL"
      },
      "outputs": [],
      "source": [
        "\n",
        "data = data + data_current_page\n",
        "\n",
        "data_df = pd.DataFrame.from_dict(data)\n",
        "for i, row in data_df.iterrows():\n",
        "    if row['tags'] is None:\n",
        "        data_df = data_df.drop(i)\n",
        "# Produce the data in a JSON format.\n",
        "data_df.to_json('C:/Users/khali/OneDrive/GitHub/FineTuningLLM/dataset/funnyQuotes.jsonl',orient=\"records\", lines =True,force_ascii=False)\n",
        "# Then I used the familiar process to push it to the Hugging Face hub."
      ]
    }
  ],
  "metadata": {
    "colab": {
      "provenance": []
    },
    "kernelspec": {
      "display_name": "Python 3",
      "name": "python3"
    },
    "language_info": {
      "codemirror_mode": {
        "name": "ipython",
        "version": 3
      },
      "file_extension": ".py",
      "mimetype": "text/x-python",
      "name": "python",
      "nbconvert_exporter": "python",
      "pygments_lexer": "ipython3",
      "version": "3.8.5"
    }
  },
  "nbformat": 4,
  "nbformat_minor": 0
}
